{
 "cells": [
  {
   "cell_type": "code",
   "execution_count": 4,
   "metadata": {},
   "outputs": [],
   "source": [
    "import numpy as np\n",
    "import struct\n",
    "from array import array\n",
    "from os.path  import join\n",
    "\n",
    "#\n",
    "# MNIST Data Loader Class\n",
    "#\n",
    "class MnistDataloader(object):\n",
    "    def __init__(self, training_images_filepath,training_labels_filepath,\n",
    "                 test_images_filepath, test_labels_filepath):\n",
    "        self.training_images_filepath = training_images_filepath\n",
    "        self.training_labels_filepath = training_labels_filepath\n",
    "        self.test_images_filepath = test_images_filepath\n",
    "        self.test_labels_filepath = test_labels_filepath\n",
    "    \n",
    "    def read_images_labels(self, images_filepath, labels_filepath):        \n",
    "        labels = []\n",
    "        with open(labels_filepath, 'rb') as file:\n",
    "            magic, size = struct.unpack(\">II\", file.read(8))\n",
    "            if magic != 2049:\n",
    "                raise ValueError('Magic number mismatch, expected 2049, got {}'.format(magic))\n",
    "            labels = array(\"B\", file.read())        \n",
    "        \n",
    "        with open(images_filepath, 'rb') as file:\n",
    "            magic, size, rows, cols = struct.unpack(\">IIII\", file.read(16))\n",
    "            if magic != 2051:\n",
    "                raise ValueError('Magic number mismatch, expected 2051, got {}'.format(magic))\n",
    "            image_data = array(\"B\", file.read())        \n",
    "        images = []\n",
    "        for i in range(size):\n",
    "            images.append([0] * rows * cols)\n",
    "        for i in range(size):\n",
    "            img = np.array(image_data[i * rows * cols:(i + 1) * rows * cols])\n",
    "            img = img.reshape(28, 28)\n",
    "            images[i][:] = img            \n",
    "        \n",
    "        return np.array(images), np.array(labels)\n",
    "            \n",
    "    def load_data(self):\n",
    "        x_train, y_train = self.read_images_labels(self.training_images_filepath, self.training_labels_filepath)\n",
    "        x_test, y_test = self.read_images_labels(self.test_images_filepath, self.test_labels_filepath)\n",
    "        return (x_train, y_train),(x_test, y_test)        \n",
    "#"
   ]
  },
  {
   "cell_type": "code",
   "execution_count": 8,
   "metadata": {},
   "outputs": [],
   "source": [
    "import matplotlib.pyplot as plt\n",
    "#\n",
    "# Set file paths based on added MNIST Datasets\n",
    "#\n",
    "\n",
    "training_images_filepath = 'train-images-idx3-ubyte/train-images-idx3-ubyte'\n",
    "training_labels_filepath ='train-labels-idx1-ubyte/train-labels-idx1-ubyte'\n",
    "test_images_filepath = 't10k-images-idx3-ubyte/t10k-images-idx3-ubyte'\n",
    "test_labels_filepath = 't10k-labels-idx1-ubyte/t10k-labels-idx1-ubyte'\n",
    "\n",
    "\n",
    "# Load MINST dataset\n",
    "#\n",
    "mnist_dataloader = MnistDataloader(training_images_filepath, training_labels_filepath, test_images_filepath, test_labels_filepath)\n",
    "(x_train, y_train), (x_test, y_test) = mnist_dataloader.load_data()\n"
   ]
  },
  {
   "cell_type": "code",
   "execution_count": 9,
   "metadata": {},
   "outputs": [
    {
     "name": "stdout",
     "output_type": "stream",
     "text": [
      "<class 'numpy.uint8'>\n"
     ]
    },
    {
     "data": {
      "image/png": "[encoded data removed]",
      "text/plain": [
       "<Figure size 640x480 with 1 Axes>"
      ]
     },
     "metadata": {},
     "output_type": "display_data"
    }
   ],
   "source": [
    "x_train.shape\n",
    "plt.imshow(x_train[0],cmap='gray')\n",
    "print(type(y_train[0]))"
   ]
  },
  {
   "cell_type": "code",
   "execution_count": 10,
   "metadata": {},
   "outputs": [
    {
     "data": {
      "text/plain": [
       "(np.uint8(255), np.uint8(0))"
      ]
     },
     "execution_count": 10,
     "metadata": {},
     "output_type": "execute_result"
    }
   ],
   "source": [
    "x_train.max(),x_train.min()\n"
   ]
  },
  {
   "cell_type": "code",
   "execution_count": 11,
   "metadata": {},
   "outputs": [],
   "source": [
    "#reshaping and normalisation\n",
    "\n",
    "x_train=(x_train.reshape(x_train.shape[0],x_train.shape[1]*x_train.shape[2]).astype(np.float32)-127.5)/127.5\n",
    "x_test=(x_test.reshape(x_test.shape[0],x_test.shape[1]*x_test.shape[2]).astype(np.float32)-127.5)/127.5\n"
   ]
  },
  {
   "cell_type": "code",
   "execution_count": 12,
   "metadata": {},
   "outputs": [
    {
     "data": {
      "text/plain": [
       "(np.float32(1.0), np.float32(-1.0))"
      ]
     },
     "execution_count": 12,
     "metadata": {},
     "output_type": "execute_result"
    }
   ],
   "source": [
    "x_train.max(),x_train.min()"
   ]
  },
  {
   "cell_type": "code",
   "execution_count": 13,
   "metadata": {},
   "outputs": [
    {
     "data": {
      "text/plain": [
       "array([5, 8, 1, 7, 3], dtype=uint8)"
      ]
     },
     "execution_count": 13,
     "metadata": {},
     "output_type": "execute_result"
    }
   ],
   "source": [
    "#data shuffling\n",
    "keys=np.array(range(x_train.shape[0]))\n",
    "np.random.shuffle(keys)\n",
    "x_train=x_train[keys]\n",
    "y_train=y_train[keys]\n",
    "y_train[:5]"
   ]
  },
  {
   "cell_type": "code",
   "execution_count": 14,
   "metadata": {},
   "outputs": [],
   "source": [
    "#model building\n",
    "from network_full import *\n",
    "model=Model()\n",
    "\n",
    "model.add(layer_dense(x_train.shape[1],256))\n",
    "model.add(Activation_ReLu())\n",
    "model.add(Layer_Dropout(0.1))\n",
    "model.add(layer_dense(256,128))\n",
    "model.add(Activation_ReLu())\n",
    "model.add(Layer_Dropout(0.1))\n",
    "model.add(layer_dense(128,10))\n",
    "model.add(Activation_SoftMax())\n",
    "model.set(loss=Loss_CategoricalCrossEntropy(),\n",
    "          optimizer=Optimizer_Adam(learning_rate=0.001,decay=1e-7),\n",
    "          accuracy=Accuracy_Categorical())\n",
    "model.finalize()\n",
    "\n",
    "\n"
   ]
  },
  {
   "cell_type": "code",
   "execution_count": 15,
   "metadata": {},
   "outputs": [
    {
     "name": "stdout",
     "output_type": "stream",
     "text": [
      "epoch: 1\n",
      " step: 0, acc: 0.109, loss: 2.302,data_loss: 2.302, reg_loss: 0.000 lr: 0.001000\n",
      " step: 100, acc: 0.797, loss: 0.632,data_loss: 0.632, reg_loss: 0.000 lr: 0.001000\n",
      " step: 200, acc: 0.844, loss: 0.449,data_loss: 0.449, reg_loss: 0.000 lr: 0.001000\n",
      " step: 300, acc: 0.875, loss: 0.457,data_loss: 0.457, reg_loss: 0.000 lr: 0.001000\n",
      " step: 400, acc: 0.859, loss: 0.368,data_loss: 0.368, reg_loss: 0.000 lr: 0.001000\n",
      " step: 500, acc: 0.844, loss: 0.599,data_loss: 0.599, reg_loss: 0.000 lr: 0.001000\n",
      " step: 600, acc: 0.891, loss: 0.411,data_loss: 0.411, reg_loss: 0.000 lr: 0.001000\n",
      " step: 700, acc: 0.938, loss: 0.194,data_loss: 0.194, reg_loss: 0.000 lr: 0.001000\n",
      " step: 800, acc: 0.953, loss: 0.184,data_loss: 0.184, reg_loss: 0.000 lr: 0.001000\n",
      " step: 900, acc: 0.875, loss: 0.291,data_loss: 0.291, reg_loss: 0.000 lr: 0.001000\n",
      " step: 937, acc: 0.969, loss: 0.332,data_loss: 0.332, reg_loss: 0.000 lr: 0.001000\n",
      "training , acc: 0.861, loss: 0.445,data_loss: 0.445, reg_loss: 0.000 lr: 0.001000\n",
      "epoch: 2\n",
      " step: 0, acc: 0.953, loss: 0.194,data_loss: 0.194, reg_loss: 0.000 lr: 0.001000\n",
      " step: 100, acc: 0.938, loss: 0.281,data_loss: 0.281, reg_loss: 0.000 lr: 0.001000\n",
      " step: 200, acc: 0.938, loss: 0.192,data_loss: 0.192, reg_loss: 0.000 lr: 0.001000\n",
      " step: 300, acc: 0.938, loss: 0.358,data_loss: 0.358, reg_loss: 0.000 lr: 0.001000\n",
      " step: 400, acc: 0.984, loss: 0.088,data_loss: 0.088, reg_loss: 0.000 lr: 0.001000\n",
      " step: 500, acc: 0.906, loss: 0.336,data_loss: 0.336, reg_loss: 0.000 lr: 0.001000\n",
      " step: 600, acc: 0.938, loss: 0.209,data_loss: 0.209, reg_loss: 0.000 lr: 0.001000\n",
      " step: 700, acc: 0.969, loss: 0.079,data_loss: 0.079, reg_loss: 0.000 lr: 0.001000\n",
      " step: 800, acc: 0.938, loss: 0.166,data_loss: 0.166, reg_loss: 0.000 lr: 0.001000\n",
      " step: 900, acc: 0.906, loss: 0.199,data_loss: 0.199, reg_loss: 0.000 lr: 0.001000\n",
      " step: 937, acc: 0.969, loss: 0.172,data_loss: 0.172, reg_loss: 0.000 lr: 0.001000\n",
      "training , acc: 0.939, loss: 0.196,data_loss: 0.196, reg_loss: 0.000 lr: 0.001000\n",
      "epoch: 3\n",
      " step: 0, acc: 0.984, loss: 0.102,data_loss: 0.102, reg_loss: 0.000 lr: 0.001000\n",
      " step: 100, acc: 0.938, loss: 0.274,data_loss: 0.274, reg_loss: 0.000 lr: 0.001000\n",
      " step: 200, acc: 0.953, loss: 0.116,data_loss: 0.116, reg_loss: 0.000 lr: 0.001000\n",
      " step: 300, acc: 0.938, loss: 0.158,data_loss: 0.158, reg_loss: 0.000 lr: 0.001000\n",
      " step: 400, acc: 0.984, loss: 0.081,data_loss: 0.081, reg_loss: 0.000 lr: 0.001000\n",
      " step: 500, acc: 0.922, loss: 0.275,data_loss: 0.275, reg_loss: 0.000 lr: 0.001000\n",
      " step: 600, acc: 0.938, loss: 0.233,data_loss: 0.233, reg_loss: 0.000 lr: 0.001000\n",
      " step: 700, acc: 0.953, loss: 0.129,data_loss: 0.129, reg_loss: 0.000 lr: 0.001000\n",
      " step: 800, acc: 0.969, loss: 0.052,data_loss: 0.052, reg_loss: 0.000 lr: 0.001000\n",
      " step: 900, acc: 0.984, loss: 0.089,data_loss: 0.089, reg_loss: 0.000 lr: 0.001000\n",
      " step: 937, acc: 0.969, loss: 0.089,data_loss: 0.089, reg_loss: 0.000 lr: 0.001000\n",
      "training , acc: 0.955, loss: 0.146,data_loss: 0.146, reg_loss: 0.000 lr: 0.001000\n",
      "epoch: 4\n",
      " step: 0, acc: 0.984, loss: 0.105,data_loss: 0.105, reg_loss: 0.000 lr: 0.001000\n",
      " step: 100, acc: 0.938, loss: 0.205,data_loss: 0.205, reg_loss: 0.000 lr: 0.001000\n",
      " step: 200, acc: 0.953, loss: 0.104,data_loss: 0.104, reg_loss: 0.000 lr: 0.001000\n",
      " step: 300, acc: 0.953, loss: 0.119,data_loss: 0.119, reg_loss: 0.000 lr: 0.001000\n",
      " step: 400, acc: 0.969, loss: 0.052,data_loss: 0.052, reg_loss: 0.000 lr: 0.001000\n",
      " step: 500, acc: 0.922, loss: 0.214,data_loss: 0.214, reg_loss: 0.000 lr: 0.001000\n",
      " step: 600, acc: 0.922, loss: 0.133,data_loss: 0.133, reg_loss: 0.000 lr: 0.001000\n",
      " step: 700, acc: 1.000, loss: 0.046,data_loss: 0.046, reg_loss: 0.000 lr: 0.001000\n",
      " step: 800, acc: 0.984, loss: 0.053,data_loss: 0.053, reg_loss: 0.000 lr: 0.001000\n",
      " step: 900, acc: 0.984, loss: 0.036,data_loss: 0.036, reg_loss: 0.000 lr: 0.001000\n",
      " step: 937, acc: 0.969, loss: 0.058,data_loss: 0.058, reg_loss: 0.000 lr: 0.001000\n",
      "training , acc: 0.961, loss: 0.123,data_loss: 0.123, reg_loss: 0.000 lr: 0.001000\n",
      "epoch: 5\n",
      " step: 0, acc: 0.969, loss: 0.105,data_loss: 0.105, reg_loss: 0.000 lr: 0.001000\n",
      " step: 100, acc: 0.984, loss: 0.098,data_loss: 0.098, reg_loss: 0.000 lr: 0.001000\n",
      " step: 200, acc: 0.969, loss: 0.085,data_loss: 0.085, reg_loss: 0.000 lr: 0.001000\n",
      " step: 300, acc: 0.953, loss: 0.130,data_loss: 0.130, reg_loss: 0.000 lr: 0.001000\n",
      " step: 400, acc: 0.969, loss: 0.126,data_loss: 0.126, reg_loss: 0.000 lr: 0.001000\n",
      " step: 500, acc: 0.938, loss: 0.232,data_loss: 0.232, reg_loss: 0.000 lr: 0.001000\n",
      " step: 600, acc: 0.953, loss: 0.090,data_loss: 0.090, reg_loss: 0.000 lr: 0.001000\n",
      " step: 700, acc: 0.969, loss: 0.060,data_loss: 0.060, reg_loss: 0.000 lr: 0.001000\n",
      " step: 800, acc: 1.000, loss: 0.045,data_loss: 0.045, reg_loss: 0.000 lr: 0.001000\n",
      " step: 900, acc: 1.000, loss: 0.023,data_loss: 0.023, reg_loss: 0.000 lr: 0.001000\n",
      " step: 937, acc: 1.000, loss: 0.027,data_loss: 0.027, reg_loss: 0.000 lr: 0.001000\n",
      "training , acc: 0.967, loss: 0.108,data_loss: 0.108, reg_loss: 0.000 lr: 0.001000\n",
      "epoch: 6\n",
      " step: 0, acc: 0.969, loss: 0.108,data_loss: 0.108, reg_loss: 0.000 lr: 0.001000\n",
      " step: 100, acc: 0.984, loss: 0.134,data_loss: 0.134, reg_loss: 0.000 lr: 0.001000\n",
      " step: 200, acc: 0.922, loss: 0.161,data_loss: 0.161, reg_loss: 0.000 lr: 0.001000\n",
      " step: 300, acc: 0.953, loss: 0.194,data_loss: 0.194, reg_loss: 0.000 lr: 0.001000\n",
      " step: 400, acc: 1.000, loss: 0.020,data_loss: 0.020, reg_loss: 0.000 lr: 0.000999\n",
      " step: 500, acc: 0.969, loss: 0.171,data_loss: 0.171, reg_loss: 0.000 lr: 0.000999\n",
      " step: 600, acc: 0.969, loss: 0.085,data_loss: 0.085, reg_loss: 0.000 lr: 0.000999\n",
      " step: 700, acc: 0.969, loss: 0.110,data_loss: 0.110, reg_loss: 0.000 lr: 0.000999\n",
      " step: 800, acc: 0.984, loss: 0.041,data_loss: 0.041, reg_loss: 0.000 lr: 0.000999\n",
      " step: 900, acc: 0.984, loss: 0.044,data_loss: 0.044, reg_loss: 0.000 lr: 0.000999\n",
      " step: 937, acc: 1.000, loss: 0.006,data_loss: 0.006, reg_loss: 0.000 lr: 0.000999\n",
      "training , acc: 0.970, loss: 0.097,data_loss: 0.097, reg_loss: 0.000 lr: 0.000999\n",
      "epoch: 7\n",
      " step: 0, acc: 0.953, loss: 0.088,data_loss: 0.088, reg_loss: 0.000 lr: 0.000999\n",
      " step: 100, acc: 0.984, loss: 0.045,data_loss: 0.045, reg_loss: 0.000 lr: 0.000999\n",
      " step: 200, acc: 0.984, loss: 0.070,data_loss: 0.070, reg_loss: 0.000 lr: 0.000999\n",
      " step: 300, acc: 0.953, loss: 0.111,data_loss: 0.111, reg_loss: 0.000 lr: 0.000999\n",
      " step: 400, acc: 1.000, loss: 0.035,data_loss: 0.035, reg_loss: 0.000 lr: 0.000999\n",
      " step: 500, acc: 0.953, loss: 0.218,data_loss: 0.218, reg_loss: 0.000 lr: 0.000999\n",
      " step: 600, acc: 0.969, loss: 0.114,data_loss: 0.114, reg_loss: 0.000 lr: 0.000999\n",
      " step: 700, acc: 0.984, loss: 0.066,data_loss: 0.066, reg_loss: 0.000 lr: 0.000999\n",
      " step: 800, acc: 0.938, loss: 0.156,data_loss: 0.156, reg_loss: 0.000 lr: 0.000999\n",
      " step: 900, acc: 1.000, loss: 0.018,data_loss: 0.018, reg_loss: 0.000 lr: 0.000999\n",
      " step: 937, acc: 0.969, loss: 0.066,data_loss: 0.066, reg_loss: 0.000 lr: 0.000999\n",
      "training , acc: 0.972, loss: 0.088,data_loss: 0.088, reg_loss: 0.000 lr: 0.000999\n",
      "epoch: 8\n",
      " step: 0, acc: 0.984, loss: 0.053,data_loss: 0.053, reg_loss: 0.000 lr: 0.000999\n",
      " step: 100, acc: 1.000, loss: 0.031,data_loss: 0.031, reg_loss: 0.000 lr: 0.000999\n",
      " step: 200, acc: 0.969, loss: 0.109,data_loss: 0.109, reg_loss: 0.000 lr: 0.000999\n",
      " step: 300, acc: 0.969, loss: 0.062,data_loss: 0.062, reg_loss: 0.000 lr: 0.000999\n",
      " step: 400, acc: 0.984, loss: 0.103,data_loss: 0.103, reg_loss: 0.000 lr: 0.000999\n",
      " step: 500, acc: 0.922, loss: 0.217,data_loss: 0.217, reg_loss: 0.000 lr: 0.000999\n",
      " step: 600, acc: 0.969, loss: 0.082,data_loss: 0.082, reg_loss: 0.000 lr: 0.000999\n",
      " step: 700, acc: 0.969, loss: 0.070,data_loss: 0.070, reg_loss: 0.000 lr: 0.000999\n",
      " step: 800, acc: 1.000, loss: 0.036,data_loss: 0.036, reg_loss: 0.000 lr: 0.000999\n",
      " step: 900, acc: 0.969, loss: 0.062,data_loss: 0.062, reg_loss: 0.000 lr: 0.000999\n",
      " step: 937, acc: 1.000, loss: 0.004,data_loss: 0.004, reg_loss: 0.000 lr: 0.000999\n",
      "training , acc: 0.972, loss: 0.086,data_loss: 0.086, reg_loss: 0.000 lr: 0.000999\n",
      "epoch: 9\n",
      " step: 0, acc: 0.984, loss: 0.065,data_loss: 0.065, reg_loss: 0.000 lr: 0.000999\n",
      " step: 100, acc: 1.000, loss: 0.017,data_loss: 0.017, reg_loss: 0.000 lr: 0.000999\n",
      " step: 200, acc: 0.984, loss: 0.072,data_loss: 0.072, reg_loss: 0.000 lr: 0.000999\n",
      " step: 300, acc: 0.953, loss: 0.076,data_loss: 0.076, reg_loss: 0.000 lr: 0.000999\n",
      " step: 400, acc: 1.000, loss: 0.020,data_loss: 0.020, reg_loss: 0.000 lr: 0.000999\n",
      " step: 500, acc: 0.984, loss: 0.056,data_loss: 0.056, reg_loss: 0.000 lr: 0.000999\n",
      " step: 600, acc: 0.969, loss: 0.071,data_loss: 0.071, reg_loss: 0.000 lr: 0.000999\n",
      " step: 700, acc: 0.969, loss: 0.098,data_loss: 0.098, reg_loss: 0.000 lr: 0.000999\n",
      " step: 800, acc: 0.984, loss: 0.032,data_loss: 0.032, reg_loss: 0.000 lr: 0.000999\n",
      " step: 900, acc: 1.000, loss: 0.019,data_loss: 0.019, reg_loss: 0.000 lr: 0.000999\n",
      " step: 937, acc: 1.000, loss: 0.006,data_loss: 0.006, reg_loss: 0.000 lr: 0.000999\n",
      "training , acc: 0.976, loss: 0.075,data_loss: 0.075, reg_loss: 0.000 lr: 0.000999\n",
      "epoch: 10\n",
      " step: 0, acc: 0.969, loss: 0.095,data_loss: 0.095, reg_loss: 0.000 lr: 0.000999\n",
      " step: 100, acc: 0.984, loss: 0.027,data_loss: 0.027, reg_loss: 0.000 lr: 0.000999\n",
      " step: 200, acc: 0.984, loss: 0.056,data_loss: 0.056, reg_loss: 0.000 lr: 0.000999\n",
      " step: 300, acc: 0.969, loss: 0.104,data_loss: 0.104, reg_loss: 0.000 lr: 0.000999\n",
      " step: 400, acc: 1.000, loss: 0.019,data_loss: 0.019, reg_loss: 0.000 lr: 0.000999\n",
      " step: 500, acc: 0.953, loss: 0.148,data_loss: 0.148, reg_loss: 0.000 lr: 0.000999\n",
      " step: 600, acc: 0.984, loss: 0.066,data_loss: 0.066, reg_loss: 0.000 lr: 0.000999\n",
      " step: 700, acc: 0.984, loss: 0.047,data_loss: 0.047, reg_loss: 0.000 lr: 0.000999\n",
      " step: 800, acc: 1.000, loss: 0.027,data_loss: 0.027, reg_loss: 0.000 lr: 0.000999\n",
      " step: 900, acc: 1.000, loss: 0.005,data_loss: 0.005, reg_loss: 0.000 lr: 0.000999\n",
      " step: 937, acc: 1.000, loss: 0.019,data_loss: 0.019, reg_loss: 0.000 lr: 0.000999\n",
      "training , acc: 0.978, loss: 0.069,data_loss: 0.069, reg_loss: 0.000 lr: 0.000999\n"
     ]
    }
   ],
   "source": [
    "model.train(x_train,y_train,epochs=10,batch_size=64,print_every=100)\n"
   ]
  },
  {
   "cell_type": "code",
   "execution_count": 16,
   "metadata": {},
   "outputs": [
    {
     "name": "stdout",
     "output_type": "stream",
     "text": [
      "validation, acc:0.970 ,loss: 0.099 \n"
     ]
    }
   ],
   "source": [
    "model.evaluate(x_test,y_test,batch_size=64)"
   ]
  },
  {
   "cell_type": "code",
   "execution_count": 17,
   "metadata": {},
   "outputs": [],
   "source": [
    "model.save('hand_written_digits.model')"
   ]
  }
 ],
 "metadata": {
  "kernelspec": {
   "display_name": "Python 3",
   "language": "python",
   "name": "python3"
  },
  "language_info": {
   "codemirror_mode": {
    "name": "ipython",
    "version": 3
   },
   "file_extension": ".py",
   "mimetype": "text/x-python",
   "name": "python",
   "nbconvert_exporter": "python",
   "pygments_lexer": "ipython3",
   "version": "3.12.9"
  }
 },
 "nbformat": 4,
 "nbformat_minor": 2
}
